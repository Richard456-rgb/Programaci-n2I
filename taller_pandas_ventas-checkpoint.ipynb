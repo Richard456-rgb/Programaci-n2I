{
 "cells": [
  {
   "cell_type": "markdown",
   "id": "6182a772",
   "metadata": {},
   "source": [
    "# 🐼 Taller de Pandas: Análisis de Datos de Ventas\n",
    "\n",
    "Bienvenido al taller interactivo de Pandas. En esta clase de 2 horas aprenderás a manipular, analizar y visualizar datos usando Python y Pandas.\n",
    "\n",
    "---\n",
    "\n",
    "## 🎯 Objetivos\n",
    "- Explorar y limpiar datos con Pandas.\n",
    "- Realizar análisis exploratorio de datos.\n",
    "- Visualizar patrones y tendencias.\n",
    "- Resolver desafíos en equipo.\n",
    "\n",
    "---\n",
    "\n",
    "## 📦 Dataset\n",
    "Simularemos un conjunto de datos de ventas con las siguientes columnas:\n",
    "\n",
    "- `Fecha`\n",
    "- `Producto`\n",
    "- `Categoría`\n",
    "- `Región`\n",
    "- `Cliente`\n",
    "- `Cantidad`\n",
    "- `Precio Unitario`\n",
    "- `Total Venta`\n",
    "\n",
    "¡Comencemos! 🚀\n"
   ]
  },
  {
   "cell_type": "code",
   "execution_count": 11,
   "id": "e2bb5b7e",
   "metadata": {},
   "outputs": [
    {
     "data": {
      "text/html": [
       "<div>\n",
       "<style scoped>\n",
       "    .dataframe tbody tr th:only-of-type {\n",
       "        vertical-align: middle;\n",
       "    }\n",
       "\n",
       "    .dataframe tbody tr th {\n",
       "        vertical-align: top;\n",
       "    }\n",
       "\n",
       "    .dataframe thead th {\n",
       "        text-align: right;\n",
       "    }\n",
       "</style>\n",
       "<table border=\"1\" class=\"dataframe\">\n",
       "  <thead>\n",
       "    <tr style=\"text-align: right;\">\n",
       "      <th></th>\n",
       "      <th>Fecha</th>\n",
       "      <th>Producto</th>\n",
       "      <th>Categoría</th>\n",
       "      <th>Región</th>\n",
       "      <th>Cliente</th>\n",
       "      <th>Cantidad</th>\n",
       "      <th>Precio Unitario</th>\n",
       "      <th>Total Venta</th>\n",
       "    </tr>\n",
       "  </thead>\n",
       "  <tbody>\n",
       "    <tr>\n",
       "      <th>0</th>\n",
       "      <td>2023-01-06</td>\n",
       "      <td>Leche</td>\n",
       "      <td>Lácteos</td>\n",
       "      <td>Oeste</td>\n",
       "      <td>Comprador_19</td>\n",
       "      <td>7</td>\n",
       "      <td>330</td>\n",
       "      <td>2310</td>\n",
       "    </tr>\n",
       "    <tr>\n",
       "      <th>1</th>\n",
       "      <td>2023-05-02</td>\n",
       "      <td>Leche</td>\n",
       "      <td>Lácteos</td>\n",
       "      <td>Sur</td>\n",
       "      <td>Comprador_17</td>\n",
       "      <td>4</td>\n",
       "      <td>843</td>\n",
       "      <td>3372</td>\n",
       "    </tr>\n",
       "    <tr>\n",
       "      <th>2</th>\n",
       "      <td>2023-12-24</td>\n",
       "      <td>Mantequilla</td>\n",
       "      <td>Lácteos</td>\n",
       "      <td>Oeste</td>\n",
       "      <td>Comprador_11</td>\n",
       "      <td>8</td>\n",
       "      <td>286</td>\n",
       "      <td>2288</td>\n",
       "    </tr>\n",
       "    <tr>\n",
       "      <th>3</th>\n",
       "      <td>2023-10-10</td>\n",
       "      <td>Mantequilla</td>\n",
       "      <td>Lácteos</td>\n",
       "      <td>Este</td>\n",
       "      <td>Comprador_3</td>\n",
       "      <td>5</td>\n",
       "      <td>212</td>\n",
       "      <td>1060</td>\n",
       "    </tr>\n",
       "    <tr>\n",
       "      <th>4</th>\n",
       "      <td>2023-11-23</td>\n",
       "      <td>Huevos</td>\n",
       "      <td>Granja</td>\n",
       "      <td>Este</td>\n",
       "      <td>Comprador_19</td>\n",
       "      <td>7</td>\n",
       "      <td>235</td>\n",
       "      <td>1645</td>\n",
       "    </tr>\n",
       "  </tbody>\n",
       "</table>\n",
       "</div>"
      ],
      "text/plain": [
       "       Fecha     Producto Categoría Región       Cliente  Cantidad  \\\n",
       "0 2023-01-06        Leche   Lácteos  Oeste  Comprador_19         7   \n",
       "1 2023-05-02        Leche   Lácteos    Sur  Comprador_17         4   \n",
       "2 2023-12-24  Mantequilla   Lácteos  Oeste  Comprador_11         8   \n",
       "3 2023-10-10  Mantequilla   Lácteos   Este   Comprador_3         5   \n",
       "4 2023-11-23       Huevos    Granja   Este  Comprador_19         7   \n",
       "\n",
       "   Precio Unitario  Total Venta  \n",
       "0              330         2310  \n",
       "1              843         3372  \n",
       "2              286         2288  \n",
       "3              212         1060  \n",
       "4              235         1645  "
      ]
     },
     "execution_count": 11,
     "metadata": {},
     "output_type": "execute_result"
    }
   ],
   "source": [
    "\n",
    "import pandas as pd\n",
    "import numpy as np\n",
    "from datetime import datetime, timedelta\n",
    "import random\n",
    "\n",
    "# Parámetros\n",
    "productos = ['Arroz', 'Azúcar', 'Aceite', 'Harina', 'Fideos', 'Sal']\n",
    "categorias = {\n",
    "    'Arroz': 'Granos',\n",
    "    'Azúcar': 'Dulces',\n",
    "    'Aceite': 'Aceites',\n",
    "    'Harina': 'Harinas',\n",
    "    'Fideos': 'Pastas',\n",
    "    'Sal': 'Condimentos'\n",
    "}\n",
    "\n",
    "# Nuevos clientes y mismas regiones\n",
    "clientes = [f'Usuario_{i}' for i in range(1, 21)]\n",
    "regiones = ['Norte', 'Sur', 'Este', 'Oeste']\n",
    "\n",
    "# Generar datos\n",
    "np.random.seed(42)\n",
    "fechas = [datetime(2023, 1, 1) + timedelta(days=random.randint(0, 364)) for _ in range(500)]\n",
    "productos_sample = [random.choice(productos) for _ in range(500)]\n",
    "categorias_sample = [categorias[p] for p in productos_sample]\n",
    "regiones_sample = [random.choice(regiones) for _ in range(500)]\n",
    "clientes_sample = [random.choice(clientes) for _ in range(500)]\n",
    "cantidades = np.random.randint(1, 10, size=500)\n",
    "precios_unitarios = [random.randint(100, 1000) for _ in range(500)]\n",
    "total_venta = [c * p for c, p in zip(cantidades, precios_unitarios)]\n",
    "\n",
    "# Crear DataFrame\n",
    "df = pd.DataFrame({\n",
    "    'Fecha': fechas,\n",
    "    'Producto': productos_sample,\n",
    "    'Categoría': categorias_sample,\n",
    "    'Región': regiones_sample,\n",
    "    'Cliente': clientes_sample,\n",
    "    'Cantidad': cantidades,\n",
    "    'Precio Unitario': precios_unitarios,\n",
    "    'Total Venta': total_venta\n",
    "})\n",
    "\n",
    "df.head()\n"
   ]
  },
  {
   "cell_type": "markdown",
   "id": "899707a6",
   "metadata": {},
   "source": [
    "## 🔍 Exploración Inicial\n",
    "\n",
    "Veamos las primeras filas, tipos de datos y valores nulos.\n"
   ]
  },
  {
   "cell_type": "code",
   "execution_count": 3,
   "id": "7e77dccb",
   "metadata": {
    "scrolled": true
   },
   "outputs": [
    {
     "name": "stdout",
     "output_type": "stream",
     "text": [
      "<class 'pandas.core.frame.DataFrame'>\n",
      "RangeIndex: 500 entries, 0 to 499\n",
      "Data columns (total 8 columns):\n",
      " #   Column           Non-Null Count  Dtype         \n",
      "---  ------           --------------  -----         \n",
      " 0   Fecha            500 non-null    datetime64[ns]\n",
      " 1   Producto         500 non-null    object        \n",
      " 2   Categoría        500 non-null    object        \n",
      " 3   Región           500 non-null    object        \n",
      " 4   Cliente          500 non-null    object        \n",
      " 5   Cantidad         500 non-null    int32         \n",
      " 6   Precio Unitario  500 non-null    int64         \n",
      " 7   Total Venta      500 non-null    int32         \n",
      "dtypes: datetime64[ns](1), int32(2), int64(1), object(4)\n",
      "memory usage: 27.5+ KB\n"
     ]
    },
    {
     "data": {
      "text/plain": [
       "Fecha              0\n",
       "Producto           0\n",
       "Categoría          0\n",
       "Región             0\n",
       "Cliente            0\n",
       "Cantidad           0\n",
       "Precio Unitario    0\n",
       "Total Venta        0\n",
       "dtype: int64"
      ]
     },
     "execution_count": 3,
     "metadata": {},
     "output_type": "execute_result"
    }
   ],
   "source": [
    "\n",
    "df.info()\n",
    "df.describe()\n",
    "df.isnull().sum()\n"
   ]
  },
  {
   "cell_type": "markdown",
   "id": "687216ee",
   "metadata": {},
   "source": [
    "## 🧪 Ejercicios Guiados\n",
    "\n",
    "1. ¿Cuántas ventas se realizaron por región?\n",
    "2. ¿Cuál fue el ingreso total por categoría?\n",
    "3. ¿Qué cliente compró más veces?\n"
   ]
  },
  {
   "cell_type": "code",
   "execution_count": 4,
   "id": "29c7c0af",
   "metadata": {},
   "outputs": [
    {
     "name": "stdout",
     "output_type": "stream",
     "text": [
      "Región\n",
      "Sur      137\n",
      "Este     126\n",
      "Oeste    122\n",
      "Norte    115\n",
      "Name: count, dtype: int64\n",
      "Categoría\n",
      "Accesorios     648748\n",
      "Electrónica    693332\n",
      "Name: Total Venta, dtype: int32\n",
      "Cliente\n",
      "Cliente_20    33\n",
      "Name: count, dtype: int64\n"
     ]
    }
   ],
   "source": [
    "\n",
    "# 1. Ventas por región\n",
    "print(df['Región'].value_counts())\n",
    "\n",
    "# 2. Ingreso total por categoría\n",
    "print(df.groupby('Categoría')['Total Venta'].sum())\n",
    "\n",
    "# 3. Cliente con más compras\n",
    "print(df['Cliente'].value_counts().head(1))\n"
   ]
  },
  {
   "cell_type": "markdown",
   "id": "5c3742b4",
   "metadata": {},
   "source": [
    "## 📊 Visualización de Datos\n",
    "\n",
    "Vamos a crear algunos gráficos para entender mejor los datos.\n"
   ]
  },
  {
   "cell_type": "code",
   "execution_count": 5,
   "id": "7292b91a",
   "metadata": {},
   "outputs": [
    {
     "data": {
      "image/png": "[encoded data removed]",
      "text/plain": [
       "<Figure size 640x480 with 1 Axes>"
      ]
     },
     "metadata": {},
     "output_type": "display_data"
    },
    {
     "data": {
      "image/png": "[encoded data removed]",
      "text/plain": [
       "<Figure size 640x480 with 1 Axes>"
      ]
     },
     "metadata": {},
     "output_type": "display_data"
    },
    {
     "data": {
      "image/png": "[encoded data removed]",
      "text/plain": [
       "<Figure size 640x480 with 2 Axes>"
      ]
     },
     "metadata": {},
     "output_type": "display_data"
    }
   ],
   "source": [
    "\n",
    "import matplotlib.pyplot as plt\n",
    "import seaborn as sns\n",
    "\n",
    "# Ventas por región\n",
    "df['Región'].value_counts().plot(kind='bar', title='Ventas por Región')\n",
    "plt.show()\n",
    "\n",
    "# Ingreso por categoría\n",
    "df.groupby('Categoría')['Total Venta'].sum().plot(kind='pie', autopct='%1.1f%%', title='Ingresos por Categoría')\n",
    "plt.ylabel('')\n",
    "plt.show()\n",
    "\n",
    "# Mapa de calor de correlación\n",
    "sns.heatmap(df[['Cantidad', 'Precio Unitario', 'Total Venta']].corr(), annot=True, cmap='coolwarm')\n",
    "plt.title('Correlación entre variables')\n",
    "plt.show()\n"
   ]
  },
  {
   "cell_type": "markdown",
   "id": "5e2b6cf5",
   "metadata": {},
   "source": [
    "## 🤝 Desafíos por Equipos\n",
    "\n",
    "Trabaja en grupo para resolver los siguientes desafíos:\n",
    "\n",
    "1. ¿Cuál es el producto más vendido por región?\n",
    "2. ¿Qué mes tuvo más ingresos?\n",
    "3. ¿Qué cliente generó más ingresos?\n",
    "\n",
    "Usa `groupby`, `agg`, `sort_values` y `dt.month` para resolverlos.\n"
   ]
  },
  {
   "cell_type": "markdown",
   "id": "51650377",
   "metadata": {
    "jp-MarkdownHeadingCollapsed": true
   },
   "source": [
    "## 🧩 Reto Final: Misterio de Datos\n",
    "\n",
    "Encuentra una anomalía o patrón interesante en los datos. Algunas ideas:\n",
    "\n",
    "- ¿Hay algún cliente que solo compra un producto?\n",
    "- ¿Algún producto tiene un precio unitario inusualmente alto?\n",
    "- ¿Hay días con ventas inusualmente altas?\n",
    "\n",
    "¡Sé creativo y presenta tus hallazgos!\n"
   ]
  },
  {
   "cell_type": "markdown",
   "id": "54590269",
   "metadata": {},
   "source": [
    "## ✅ Cierre y Reflexión\n",
    "\n",
    "- ¿Qué aprendiste hoy?\n",
    "- ¿Qué fue lo más desafiante?\n",
    "- ¿Cómo aplicarías Pandas en tu trabajo o estudios?\n",
    "\n",
    "¡Gracias por participar! 🎉\n"
   ]
  }
 ],
 "metadata": {
  "kernelspec": {
   "display_name": "Python [conda env:base] *",
   "language": "python",
   "name": "conda-base-py"
  },
  "language_info": {
   "codemirror_mode": {
    "name": "ipython",
    "version": 3
   },
   "file_extension": ".py",
   "mimetype": "text/x-python",
   "name": "python",
   "nbconvert_exporter": "python",
   "pygments_lexer": "ipython3",
   "version": "3.13.5"
  }
 },
 "nbformat": 4,
 "nbformat_minor": 5
}
